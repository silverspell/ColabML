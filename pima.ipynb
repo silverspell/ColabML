{
  "nbformat": 4,
  "nbformat_minor": 0,
  "metadata": {
    "colab": {
      "name": "pima.ipynb",
      "version": "0.3.2",
      "provenance": [],
      "include_colab_link": true
    },
    "kernelspec": {
      "name": "python3",
      "display_name": "Python 3"
    }
  },
  "cells": [
    {
      "cell_type": "markdown",
      "metadata": {
        "id": "view-in-github",
        "colab_type": "text"
      },
      "source": [
        "<a href=\"https://colab.research.google.com/github/silverspell/ColabML/blob/master/pima.ipynb\" target=\"_parent\"><img src=\"https://colab.research.google.com/assets/colab-badge.svg\" alt=\"Open In Colab\"/></a>"
      ]
    },
    {
      "metadata": {
        "id": "gTyacXFQxcK2",
        "colab_type": "code",
        "colab": {}
      },
      "cell_type": "code",
      "source": [
        "import pandas as pd\n",
        "import numpy as np\n",
        "import matplotlib.pyplot as plt\n",
        "%matplotlib inline\n",
        "import seaborn as sns\n",
        "from sklearn.model_selection import train_test_split\n",
        "from sklearn.preprocessing import MinMaxScaler as Scaler"
      ],
      "execution_count": 0,
      "outputs": []
    },
    {
      "metadata": {
        "id": "KhC7w5dXziDt",
        "colab_type": "text"
      },
      "cell_type": "markdown",
      "source": [
        "# Load Data"
      ]
    },
    {
      "metadata": {
        "id": "yPtLcg3PyKed",
        "colab_type": "code",
        "outputId": "e6e417c6-8435-475b-c450-5f6c895f9ccf",
        "colab": {
          "base_uri": "https://localhost:8080/",
          "height": 195
        }
      },
      "cell_type": "code",
      "source": [
        "dataset = pd.read_csv(\"https://raw.githubusercontent.com/jbrownlee/Datasets/master/pima-indians-diabetes.data.csv\", sep=\",\", header=None)\n",
        "dataset.columns = [\"NumTimesPreg\", \"PlGlcConc\", \"BloodP\", \"SkinThick\", \"TwoHourSerIns\", \"BMI\", \"DiPedFunc\", \"Age\", \"HasDiabetes\"]\n",
        "dataset.head()"
      ],
      "execution_count": 0,
      "outputs": [
        {
          "output_type": "execute_result",
          "data": {
            "text/html": [
              "<div>\n",
              "<style scoped>\n",
              "    .dataframe tbody tr th:only-of-type {\n",
              "        vertical-align: middle;\n",
              "    }\n",
              "\n",
              "    .dataframe tbody tr th {\n",
              "        vertical-align: top;\n",
              "    }\n",
              "\n",
              "    .dataframe thead th {\n",
              "        text-align: right;\n",
              "    }\n",
              "</style>\n",
              "<table border=\"1\" class=\"dataframe\">\n",
              "  <thead>\n",
              "    <tr style=\"text-align: right;\">\n",
              "      <th></th>\n",
              "      <th>NumTimesPreg</th>\n",
              "      <th>PlGlcConc</th>\n",
              "      <th>BloodP</th>\n",
              "      <th>SkinThick</th>\n",
              "      <th>TwoHourSerIns</th>\n",
              "      <th>BMI</th>\n",
              "      <th>DiPedFunc</th>\n",
              "      <th>Age</th>\n",
              "      <th>HasDiabetes</th>\n",
              "    </tr>\n",
              "  </thead>\n",
              "  <tbody>\n",
              "    <tr>\n",
              "      <th>0</th>\n",
              "      <td>6</td>\n",
              "      <td>148</td>\n",
              "      <td>72</td>\n",
              "      <td>35</td>\n",
              "      <td>0</td>\n",
              "      <td>33.6</td>\n",
              "      <td>0.627</td>\n",
              "      <td>50</td>\n",
              "      <td>1</td>\n",
              "    </tr>\n",
              "    <tr>\n",
              "      <th>1</th>\n",
              "      <td>1</td>\n",
              "      <td>85</td>\n",
              "      <td>66</td>\n",
              "      <td>29</td>\n",
              "      <td>0</td>\n",
              "      <td>26.6</td>\n",
              "      <td>0.351</td>\n",
              "      <td>31</td>\n",
              "      <td>0</td>\n",
              "    </tr>\n",
              "    <tr>\n",
              "      <th>2</th>\n",
              "      <td>8</td>\n",
              "      <td>183</td>\n",
              "      <td>64</td>\n",
              "      <td>0</td>\n",
              "      <td>0</td>\n",
              "      <td>23.3</td>\n",
              "      <td>0.672</td>\n",
              "      <td>32</td>\n",
              "      <td>1</td>\n",
              "    </tr>\n",
              "    <tr>\n",
              "      <th>3</th>\n",
              "      <td>1</td>\n",
              "      <td>89</td>\n",
              "      <td>66</td>\n",
              "      <td>23</td>\n",
              "      <td>94</td>\n",
              "      <td>28.1</td>\n",
              "      <td>0.167</td>\n",
              "      <td>21</td>\n",
              "      <td>0</td>\n",
              "    </tr>\n",
              "    <tr>\n",
              "      <th>4</th>\n",
              "      <td>0</td>\n",
              "      <td>137</td>\n",
              "      <td>40</td>\n",
              "      <td>35</td>\n",
              "      <td>168</td>\n",
              "      <td>43.1</td>\n",
              "      <td>2.288</td>\n",
              "      <td>33</td>\n",
              "      <td>1</td>\n",
              "    </tr>\n",
              "  </tbody>\n",
              "</table>\n",
              "</div>"
            ],
            "text/plain": [
              "   NumTimesPreg  PlGlcConc  BloodP  SkinThick  TwoHourSerIns   BMI  DiPedFunc  \\\n",
              "0             6        148      72         35              0  33.6      0.627   \n",
              "1             1         85      66         29              0  26.6      0.351   \n",
              "2             8        183      64          0              0  23.3      0.672   \n",
              "3             1         89      66         23             94  28.1      0.167   \n",
              "4             0        137      40         35            168  43.1      2.288   \n",
              "\n",
              "   Age  HasDiabetes  \n",
              "0   50            1  \n",
              "1   31            0  \n",
              "2   32            1  \n",
              "3   21            0  \n",
              "4   33            1  "
            ]
          },
          "metadata": {
            "tags": []
          },
          "execution_count": 4
        }
      ]
    },
    {
      "metadata": {
        "id": "JTLMEQvWzrvq",
        "colab_type": "text"
      },
      "cell_type": "markdown",
      "source": [
        "# Inspect dataset"
      ]
    },
    {
      "metadata": {
        "id": "moMSmv3kyVeH",
        "colab_type": "code",
        "outputId": "1b25e06c-790d-4cfe-d99a-5584e35a885c",
        "colab": {
          "base_uri": "https://localhost:8080/",
          "height": 34
        }
      },
      "cell_type": "code",
      "source": [
        "dataset.shape"
      ],
      "execution_count": 0,
      "outputs": [
        {
          "output_type": "execute_result",
          "data": {
            "text/plain": [
              "(768, 9)"
            ]
          },
          "metadata": {
            "tags": []
          },
          "execution_count": 6
        }
      ]
    },
    {
      "metadata": {
        "id": "jMo5rGFEyXZ-",
        "colab_type": "code",
        "outputId": "c0843be8-9b3e-436f-efe0-db6028ce8b55",
        "colab": {
          "base_uri": "https://localhost:8080/",
          "height": 314
        }
      },
      "cell_type": "code",
      "source": [
        "dataset.corr()"
      ],
      "execution_count": 0,
      "outputs": [
        {
          "output_type": "execute_result",
          "data": {
            "text/html": [
              "<div>\n",
              "<style scoped>\n",
              "    .dataframe tbody tr th:only-of-type {\n",
              "        vertical-align: middle;\n",
              "    }\n",
              "\n",
              "    .dataframe tbody tr th {\n",
              "        vertical-align: top;\n",
              "    }\n",
              "\n",
              "    .dataframe thead th {\n",
              "        text-align: right;\n",
              "    }\n",
              "</style>\n",
              "<table border=\"1\" class=\"dataframe\">\n",
              "  <thead>\n",
              "    <tr style=\"text-align: right;\">\n",
              "      <th></th>\n",
              "      <th>NumTimesPreg</th>\n",
              "      <th>PlGlcConc</th>\n",
              "      <th>BloodP</th>\n",
              "      <th>SkinThick</th>\n",
              "      <th>TwoHourSerIns</th>\n",
              "      <th>BMI</th>\n",
              "      <th>DiPedFunc</th>\n",
              "      <th>Age</th>\n",
              "      <th>HasDiabetes</th>\n",
              "    </tr>\n",
              "  </thead>\n",
              "  <tbody>\n",
              "    <tr>\n",
              "      <th>NumTimesPreg</th>\n",
              "      <td>1.000000</td>\n",
              "      <td>0.129459</td>\n",
              "      <td>0.141282</td>\n",
              "      <td>-0.081672</td>\n",
              "      <td>-0.073535</td>\n",
              "      <td>0.017683</td>\n",
              "      <td>-0.033523</td>\n",
              "      <td>0.544341</td>\n",
              "      <td>0.221898</td>\n",
              "    </tr>\n",
              "    <tr>\n",
              "      <th>PlGlcConc</th>\n",
              "      <td>0.129459</td>\n",
              "      <td>1.000000</td>\n",
              "      <td>0.152590</td>\n",
              "      <td>0.057328</td>\n",
              "      <td>0.331357</td>\n",
              "      <td>0.221071</td>\n",
              "      <td>0.137337</td>\n",
              "      <td>0.263514</td>\n",
              "      <td>0.466581</td>\n",
              "    </tr>\n",
              "    <tr>\n",
              "      <th>BloodP</th>\n",
              "      <td>0.141282</td>\n",
              "      <td>0.152590</td>\n",
              "      <td>1.000000</td>\n",
              "      <td>0.207371</td>\n",
              "      <td>0.088933</td>\n",
              "      <td>0.281805</td>\n",
              "      <td>0.041265</td>\n",
              "      <td>0.239528</td>\n",
              "      <td>0.065068</td>\n",
              "    </tr>\n",
              "    <tr>\n",
              "      <th>SkinThick</th>\n",
              "      <td>-0.081672</td>\n",
              "      <td>0.057328</td>\n",
              "      <td>0.207371</td>\n",
              "      <td>1.000000</td>\n",
              "      <td>0.436783</td>\n",
              "      <td>0.392573</td>\n",
              "      <td>0.183928</td>\n",
              "      <td>-0.113970</td>\n",
              "      <td>0.074752</td>\n",
              "    </tr>\n",
              "    <tr>\n",
              "      <th>TwoHourSerIns</th>\n",
              "      <td>-0.073535</td>\n",
              "      <td>0.331357</td>\n",
              "      <td>0.088933</td>\n",
              "      <td>0.436783</td>\n",
              "      <td>1.000000</td>\n",
              "      <td>0.197859</td>\n",
              "      <td>0.185071</td>\n",
              "      <td>-0.042163</td>\n",
              "      <td>0.130548</td>\n",
              "    </tr>\n",
              "    <tr>\n",
              "      <th>BMI</th>\n",
              "      <td>0.017683</td>\n",
              "      <td>0.221071</td>\n",
              "      <td>0.281805</td>\n",
              "      <td>0.392573</td>\n",
              "      <td>0.197859</td>\n",
              "      <td>1.000000</td>\n",
              "      <td>0.140647</td>\n",
              "      <td>0.036242</td>\n",
              "      <td>0.292695</td>\n",
              "    </tr>\n",
              "    <tr>\n",
              "      <th>DiPedFunc</th>\n",
              "      <td>-0.033523</td>\n",
              "      <td>0.137337</td>\n",
              "      <td>0.041265</td>\n",
              "      <td>0.183928</td>\n",
              "      <td>0.185071</td>\n",
              "      <td>0.140647</td>\n",
              "      <td>1.000000</td>\n",
              "      <td>0.033561</td>\n",
              "      <td>0.173844</td>\n",
              "    </tr>\n",
              "    <tr>\n",
              "      <th>Age</th>\n",
              "      <td>0.544341</td>\n",
              "      <td>0.263514</td>\n",
              "      <td>0.239528</td>\n",
              "      <td>-0.113970</td>\n",
              "      <td>-0.042163</td>\n",
              "      <td>0.036242</td>\n",
              "      <td>0.033561</td>\n",
              "      <td>1.000000</td>\n",
              "      <td>0.238356</td>\n",
              "    </tr>\n",
              "    <tr>\n",
              "      <th>HasDiabetes</th>\n",
              "      <td>0.221898</td>\n",
              "      <td>0.466581</td>\n",
              "      <td>0.065068</td>\n",
              "      <td>0.074752</td>\n",
              "      <td>0.130548</td>\n",
              "      <td>0.292695</td>\n",
              "      <td>0.173844</td>\n",
              "      <td>0.238356</td>\n",
              "      <td>1.000000</td>\n",
              "    </tr>\n",
              "  </tbody>\n",
              "</table>\n",
              "</div>"
            ],
            "text/plain": [
              "               NumTimesPreg  PlGlcConc    BloodP  SkinThick  TwoHourSerIns  \\\n",
              "NumTimesPreg       1.000000   0.129459  0.141282  -0.081672      -0.073535   \n",
              "PlGlcConc          0.129459   1.000000  0.152590   0.057328       0.331357   \n",
              "BloodP             0.141282   0.152590  1.000000   0.207371       0.088933   \n",
              "SkinThick         -0.081672   0.057328  0.207371   1.000000       0.436783   \n",
              "TwoHourSerIns     -0.073535   0.331357  0.088933   0.436783       1.000000   \n",
              "BMI                0.017683   0.221071  0.281805   0.392573       0.197859   \n",
              "DiPedFunc         -0.033523   0.137337  0.041265   0.183928       0.185071   \n",
              "Age                0.544341   0.263514  0.239528  -0.113970      -0.042163   \n",
              "HasDiabetes        0.221898   0.466581  0.065068   0.074752       0.130548   \n",
              "\n",
              "                    BMI  DiPedFunc       Age  HasDiabetes  \n",
              "NumTimesPreg   0.017683  -0.033523  0.544341     0.221898  \n",
              "PlGlcConc      0.221071   0.137337  0.263514     0.466581  \n",
              "BloodP         0.281805   0.041265  0.239528     0.065068  \n",
              "SkinThick      0.392573   0.183928 -0.113970     0.074752  \n",
              "TwoHourSerIns  0.197859   0.185071 -0.042163     0.130548  \n",
              "BMI            1.000000   0.140647  0.036242     0.292695  \n",
              "DiPedFunc      0.140647   1.000000  0.033561     0.173844  \n",
              "Age            0.036242   0.033561  1.000000     0.238356  \n",
              "HasDiabetes    0.292695   0.173844  0.238356     1.000000  "
            ]
          },
          "metadata": {
            "tags": []
          },
          "execution_count": 8
        }
      ]
    },
    {
      "metadata": {
        "id": "BEA22OThyx49",
        "colab_type": "code",
        "outputId": "769700e1-fc3b-4ae2-9264-e0ac77aa31c0",
        "colab": {
          "base_uri": "https://localhost:8080/",
          "height": 352
        }
      },
      "cell_type": "code",
      "source": [
        "sns.heatmap(dataset.corr(), annot=True)"
      ],
      "execution_count": 0,
      "outputs": [
        {
          "output_type": "execute_result",
          "data": {
            "text/plain": [
              "<matplotlib.axes._subplots.AxesSubplot at 0x7f32753baef0>"
            ]
          },
          "metadata": {
            "tags": []
          },
          "execution_count": 9
        },
        {
          "output_type": "display_data",
          "data": {
            "image/png": "[encoded data removed]",
            "text/plain": [
              "<Figure size 432x288 with 2 Axes>"
            ]
          },
          "metadata": {
            "tags": []
          }
        }
      ]
    },
    {
      "metadata": {
        "id": "NcQrlDzRz7PI",
        "colab_type": "text"
      },
      "cell_type": "markdown",
      "source": [
        "Seems that greater BMI, Age and PlGlcConc are, the greater probabilities are the patient can develop type 2 diabetes."
      ]
    },
    {
      "metadata": {
        "id": "hxp3SMaWz07I",
        "colab_type": "text"
      },
      "cell_type": "markdown",
      "source": [
        "# Visualize"
      ]
    },
    {
      "metadata": {
        "id": "J_7zkSnLzPlW",
        "colab_type": "code",
        "outputId": "3a901f31-1843-487b-d865-4b7fddc579a1",
        "colab": {
          "base_uri": "https://localhost:8080/",
          "height": 879
        }
      },
      "cell_type": "code",
      "source": [
        "dataset.hist(bins=50, figsize=(20, 15))\n",
        "plt.show()"
      ],
      "execution_count": 0,
      "outputs": [
        {
          "output_type": "display_data",
          "data": {
            "image/png": "[encoded data removed]",
            "text/plain": [
              "<Figure size 1440x1080 with 9 Axes>"
            ]
          },
          "metadata": {
            "tags": []
          }
        }
      ]
    },
    {
      "metadata": {
        "id": "IUN9Wgo90kdD",
        "colab_type": "text"
      },
      "cell_type": "markdown",
      "source": [
        "# Data transformation\n",
        "\n",
        "We will replace some 0 values with medians for the fields which may not be 0 like BMI, BloodP..."
      ]
    },
    {
      "metadata": {
        "id": "Ih6T6lAi0bRf",
        "colab_type": "code",
        "colab": {}
      },
      "cell_type": "code",
      "source": [
        "bmi_median = dataset[\"BMI\"].median()\n",
        "bloodp_median = dataset[\"BloodP\"].median()\n",
        "plgl_median = dataset[\"PlGlcConc\"].median()\n",
        "skin_median = dataset[\"SkinThick\"].median()\n",
        "twohour_median = dataset[\"TwoHourSerIns\"].median()\n",
        "\n",
        "dataset[\"BMI\"] = dataset[\"BMI\"].replace(to_replace = 0, value= bmi_median)\n",
        "dataset[\"BloodP\"] = dataset[\"BloodP\"].replace(to_replace = 0, value= bloodp_median)\n",
        "dataset[\"PlGlcConc\"] = dataset[\"PlGlcConc\"].replace(to_replace = 0, value= plgl_median)\n",
        "dataset[\"SkinThick\"] = dataset[\"SkinThick\"].replace(to_replace = 0, value= skin_median)\n",
        "dataset[\"TwoHourSerIns\"] = dataset[\"TwoHourSerIns\"].replace(to_replace = 0, value= twohour_median)"
      ],
      "execution_count": 0,
      "outputs": []
    },
    {
      "metadata": {
        "id": "0o6cEzI012Wu",
        "colab_type": "text"
      },
      "cell_type": "markdown",
      "source": [
        "# Train / Test Split"
      ]
    },
    {
      "metadata": {
        "id": "Vyrynz3G15GL",
        "colab_type": "code",
        "colab": {}
      },
      "cell_type": "code",
      "source": [
        "train_set, test_set = train_test_split(dataset, test_size=0.3, random_state=102)\n",
        "\n",
        "# seperate labels\n",
        "train_set_labels = train_set[\"HasDiabetes\"].copy()\n",
        "test_set_labels = test_set[\"HasDiabetes\"].copy()\n",
        "\n",
        "train_set = train_set.drop(\"HasDiabetes\", axis=1)\n",
        "test_set = test_set.drop(\"HasDiabetes\", axis=1)"
      ],
      "execution_count": 0,
      "outputs": []
    },
    {
      "metadata": {
        "id": "IFSU1dLF2lwp",
        "colab_type": "text"
      },
      "cell_type": "markdown",
      "source": [
        "# Feature scaling"
      ]
    },
    {
      "metadata": {
        "id": "rQ4DnmF32jFp",
        "colab_type": "code",
        "outputId": "fc479f28-07fe-4dcc-f98e-1802cd16a92d",
        "colab": {
          "base_uri": "https://localhost:8080/",
          "height": 50
        }
      },
      "cell_type": "code",
      "source": [
        "scaler = Scaler()\n",
        "scaler.fit(train_set)\n",
        "train_set_scaled = scaler.transform(train_set)\n",
        "test_set_scaled = scaler.transform(test_set)"
      ],
      "execution_count": 0,
      "outputs": [
        {
          "output_type": "stream",
          "text": [
            "/usr/local/lib/python3.6/dist-packages/sklearn/preprocessing/data.py:334: DataConversionWarning: Data with input dtype int64, float64 were all converted to float64 by MinMaxScaler.\n",
            "  return self.partial_fit(X, y)\n"
          ],
          "name": "stderr"
        }
      ]
    },
    {
      "metadata": {
        "id": "uWW87AG824-B",
        "colab_type": "code",
        "outputId": "5f43b1d4-628d-4eae-f3e3-7883f5434cb0",
        "colab": {
          "base_uri": "https://localhost:8080/",
          "height": 195
        }
      },
      "cell_type": "code",
      "source": [
        "df = pd.DataFrame(data = train_set_scaled)\n",
        "df.head()"
      ],
      "execution_count": 0,
      "outputs": [
        {
          "output_type": "execute_result",
          "data": {
            "text/html": [
              "<div>\n",
              "<style scoped>\n",
              "    .dataframe tbody tr th:only-of-type {\n",
              "        vertical-align: middle;\n",
              "    }\n",
              "\n",
              "    .dataframe tbody tr th {\n",
              "        vertical-align: top;\n",
              "    }\n",
              "\n",
              "    .dataframe thead th {\n",
              "        text-align: right;\n",
              "    }\n",
              "</style>\n",
              "<table border=\"1\" class=\"dataframe\">\n",
              "  <thead>\n",
              "    <tr style=\"text-align: right;\">\n",
              "      <th></th>\n",
              "      <th>0</th>\n",
              "      <th>1</th>\n",
              "      <th>2</th>\n",
              "      <th>3</th>\n",
              "      <th>4</th>\n",
              "      <th>5</th>\n",
              "      <th>6</th>\n",
              "      <th>7</th>\n",
              "    </tr>\n",
              "  </thead>\n",
              "  <tbody>\n",
              "    <tr>\n",
              "      <th>0</th>\n",
              "      <td>0.058824</td>\n",
              "      <td>0.883871</td>\n",
              "      <td>0.444444</td>\n",
              "      <td>0.250000</td>\n",
              "      <td>0.198556</td>\n",
              "      <td>0.325153</td>\n",
              "      <td>0.111062</td>\n",
              "      <td>0.283333</td>\n",
              "    </tr>\n",
              "    <tr>\n",
              "      <th>1</th>\n",
              "      <td>0.352941</td>\n",
              "      <td>0.393548</td>\n",
              "      <td>0.622222</td>\n",
              "      <td>0.228261</td>\n",
              "      <td>0.018652</td>\n",
              "      <td>0.292434</td>\n",
              "      <td>0.355398</td>\n",
              "      <td>0.083333</td>\n",
              "    </tr>\n",
              "    <tr>\n",
              "      <th>2</th>\n",
              "      <td>0.764706</td>\n",
              "      <td>0.400000</td>\n",
              "      <td>0.533333</td>\n",
              "      <td>0.510870</td>\n",
              "      <td>0.018652</td>\n",
              "      <td>0.376278</td>\n",
              "      <td>0.044425</td>\n",
              "      <td>0.400000</td>\n",
              "    </tr>\n",
              "    <tr>\n",
              "      <th>3</th>\n",
              "      <td>0.588235</td>\n",
              "      <td>0.412903</td>\n",
              "      <td>0.466667</td>\n",
              "      <td>0.173913</td>\n",
              "      <td>0.018652</td>\n",
              "      <td>0.290389</td>\n",
              "      <td>0.086184</td>\n",
              "      <td>0.350000</td>\n",
              "    </tr>\n",
              "    <tr>\n",
              "      <th>4</th>\n",
              "      <td>0.411765</td>\n",
              "      <td>0.548387</td>\n",
              "      <td>0.488889</td>\n",
              "      <td>0.456522</td>\n",
              "      <td>0.132371</td>\n",
              "      <td>0.415133</td>\n",
              "      <td>0.160373</td>\n",
              "      <td>0.366667</td>\n",
              "    </tr>\n",
              "  </tbody>\n",
              "</table>\n",
              "</div>"
            ],
            "text/plain": [
              "          0         1         2         3         4         5         6  \\\n",
              "0  0.058824  0.883871  0.444444  0.250000  0.198556  0.325153  0.111062   \n",
              "1  0.352941  0.393548  0.622222  0.228261  0.018652  0.292434  0.355398   \n",
              "2  0.764706  0.400000  0.533333  0.510870  0.018652  0.376278  0.044425   \n",
              "3  0.588235  0.412903  0.466667  0.173913  0.018652  0.290389  0.086184   \n",
              "4  0.411765  0.548387  0.488889  0.456522  0.132371  0.415133  0.160373   \n",
              "\n",
              "          7  \n",
              "0  0.283333  \n",
              "1  0.083333  \n",
              "2  0.400000  \n",
              "3  0.350000  \n",
              "4  0.366667  "
            ]
          },
          "metadata": {
            "tags": []
          },
          "execution_count": 18
        }
      ]
    },
    {
      "metadata": {
        "id": "2WHmWOHW3EPG",
        "colab_type": "text"
      },
      "cell_type": "markdown",
      "source": [
        "#Select and train a model\n",
        "\n",
        "It is not actually possible which algorithm will work better with our dataset. \n",
        "We will compare a few and select the one with best score"
      ]
    },
    {
      "metadata": {
        "id": "TzuyHBtC3Ah3",
        "colab_type": "code",
        "colab": {}
      },
      "cell_type": "code",
      "source": [
        "from sklearn.linear_model import LogisticRegression\n",
        "from sklearn.neighbors import KNeighborsClassifier\n",
        "from sklearn.naive_bayes import GaussianNB\n",
        "from sklearn.svm import SVC\n",
        "from sklearn.svm import LinearSVC\n",
        "from sklearn.ensemble import RandomForestClassifier\n",
        "from sklearn.tree import DecisionTreeRegressor"
      ],
      "execution_count": 0,
      "outputs": []
    },
    {
      "metadata": {
        "id": "FkWerDpW31qf",
        "colab_type": "code",
        "colab": {}
      },
      "cell_type": "code",
      "source": [
        "from sklearn import model_selection"
      ],
      "execution_count": 0,
      "outputs": []
    },
    {
      "metadata": {
        "id": "Vnrl9O2M4D8a",
        "colab_type": "code",
        "colab": {}
      },
      "cell_type": "code",
      "source": [
        "models = []\n",
        "models.append((\"LR\", LogisticRegression()))\n",
        "models.append((\"KNN\", KNeighborsClassifier()))\n",
        "models.append((\"NB\", GaussianNB()))\n",
        "models.append((\"SVC\", SVC()))\n",
        "models.append((\"LSVC\", LinearSVC()))\n",
        "models.append((\"RFC\", RandomForestClassifier()))\n",
        "models.append((\"DTR\", DecisionTreeRegressor()))"
      ],
      "execution_count": 0,
      "outputs": []
    },
    {
      "metadata": {
        "id": "S-Ol8PtP4k52",
        "colab_type": "code",
        "colab": {}
      },
      "cell_type": "code",
      "source": [
        "# configuration\n",
        "\n",
        "seed = 7\n",
        "results = []\n",
        "names = []\n",
        "X = train_set_scaled\n",
        "Y = train_set_labels"
      ],
      "execution_count": 0,
      "outputs": []
    },
    {
      "metadata": {
        "id": "krC0KinO4tA7",
        "colab_type": "code",
        "outputId": "6c2e6197-5f67-4c63-dcc5-3743be1b4a4a",
        "colab": {
          "base_uri": "https://localhost:8080/",
          "height": 1162
        }
      },
      "cell_type": "code",
      "source": [
        "for name, model in models:\n",
        "    kfold = model_selection.KFold(n_splits = 10, random_state=seed)\n",
        "    cv_results = model_selection.cross_val_score(model, X, Y, cv=kfold, scoring=\"accuracy\")\n",
        "    results.append(cv_results)\n",
        "    names.append(name)\n",
        "    msg = \"{}: {}, ({})\".format(name, cv_results.mean(), cv_results.std())\n",
        "    print(msg)"
      ],
      "execution_count": 0,
      "outputs": [
        {
          "output_type": "stream",
          "text": [
            "/usr/local/lib/python3.6/dist-packages/sklearn/linear_model/logistic.py:433: FutureWarning: Default solver will be changed to 'lbfgs' in 0.22. Specify a solver to silence this warning.\n",
            "  FutureWarning)\n",
            "/usr/local/lib/python3.6/dist-packages/sklearn/linear_model/logistic.py:433: FutureWarning: Default solver will be changed to 'lbfgs' in 0.22. Specify a solver to silence this warning.\n",
            "  FutureWarning)\n",
            "/usr/local/lib/python3.6/dist-packages/sklearn/linear_model/logistic.py:433: FutureWarning: Default solver will be changed to 'lbfgs' in 0.22. Specify a solver to silence this warning.\n",
            "  FutureWarning)\n",
            "/usr/local/lib/python3.6/dist-packages/sklearn/linear_model/logistic.py:433: FutureWarning: Default solver will be changed to 'lbfgs' in 0.22. Specify a solver to silence this warning.\n",
            "  FutureWarning)\n",
            "/usr/local/lib/python3.6/dist-packages/sklearn/linear_model/logistic.py:433: FutureWarning: Default solver will be changed to 'lbfgs' in 0.22. Specify a solver to silence this warning.\n",
            "  FutureWarning)\n",
            "/usr/local/lib/python3.6/dist-packages/sklearn/linear_model/logistic.py:433: FutureWarning: Default solver will be changed to 'lbfgs' in 0.22. Specify a solver to silence this warning.\n",
            "  FutureWarning)\n",
            "/usr/local/lib/python3.6/dist-packages/sklearn/linear_model/logistic.py:433: FutureWarning: Default solver will be changed to 'lbfgs' in 0.22. Specify a solver to silence this warning.\n",
            "  FutureWarning)\n",
            "/usr/local/lib/python3.6/dist-packages/sklearn/linear_model/logistic.py:433: FutureWarning: Default solver will be changed to 'lbfgs' in 0.22. Specify a solver to silence this warning.\n",
            "  FutureWarning)\n",
            "/usr/local/lib/python3.6/dist-packages/sklearn/linear_model/logistic.py:433: FutureWarning: Default solver will be changed to 'lbfgs' in 0.22. Specify a solver to silence this warning.\n",
            "  FutureWarning)\n",
            "/usr/local/lib/python3.6/dist-packages/sklearn/linear_model/logistic.py:433: FutureWarning: Default solver will be changed to 'lbfgs' in 0.22. Specify a solver to silence this warning.\n",
            "  FutureWarning)\n",
            "/usr/local/lib/python3.6/dist-packages/sklearn/svm/base.py:196: FutureWarning: The default value of gamma will change from 'auto' to 'scale' in version 0.22 to account better for unscaled features. Set gamma explicitly to 'auto' or 'scale' to avoid this warning.\n",
            "  \"avoid this warning.\", FutureWarning)\n",
            "/usr/local/lib/python3.6/dist-packages/sklearn/svm/base.py:196: FutureWarning: The default value of gamma will change from 'auto' to 'scale' in version 0.22 to account better for unscaled features. Set gamma explicitly to 'auto' or 'scale' to avoid this warning.\n",
            "  \"avoid this warning.\", FutureWarning)\n",
            "/usr/local/lib/python3.6/dist-packages/sklearn/svm/base.py:196: FutureWarning: The default value of gamma will change from 'auto' to 'scale' in version 0.22 to account better for unscaled features. Set gamma explicitly to 'auto' or 'scale' to avoid this warning.\n",
            "  \"avoid this warning.\", FutureWarning)\n",
            "/usr/local/lib/python3.6/dist-packages/sklearn/svm/base.py:196: FutureWarning: The default value of gamma will change from 'auto' to 'scale' in version 0.22 to account better for unscaled features. Set gamma explicitly to 'auto' or 'scale' to avoid this warning.\n",
            "  \"avoid this warning.\", FutureWarning)\n",
            "/usr/local/lib/python3.6/dist-packages/sklearn/svm/base.py:196: FutureWarning: The default value of gamma will change from 'auto' to 'scale' in version 0.22 to account better for unscaled features. Set gamma explicitly to 'auto' or 'scale' to avoid this warning.\n",
            "  \"avoid this warning.\", FutureWarning)\n",
            "/usr/local/lib/python3.6/dist-packages/sklearn/svm/base.py:196: FutureWarning: The default value of gamma will change from 'auto' to 'scale' in version 0.22 to account better for unscaled features. Set gamma explicitly to 'auto' or 'scale' to avoid this warning.\n",
            "  \"avoid this warning.\", FutureWarning)\n",
            "/usr/local/lib/python3.6/dist-packages/sklearn/svm/base.py:196: FutureWarning: The default value of gamma will change from 'auto' to 'scale' in version 0.22 to account better for unscaled features. Set gamma explicitly to 'auto' or 'scale' to avoid this warning.\n",
            "  \"avoid this warning.\", FutureWarning)\n",
            "/usr/local/lib/python3.6/dist-packages/sklearn/svm/base.py:196: FutureWarning: The default value of gamma will change from 'auto' to 'scale' in version 0.22 to account better for unscaled features. Set gamma explicitly to 'auto' or 'scale' to avoid this warning.\n",
            "  \"avoid this warning.\", FutureWarning)\n",
            "/usr/local/lib/python3.6/dist-packages/sklearn/svm/base.py:196: FutureWarning: The default value of gamma will change from 'auto' to 'scale' in version 0.22 to account better for unscaled features. Set gamma explicitly to 'auto' or 'scale' to avoid this warning.\n",
            "  \"avoid this warning.\", FutureWarning)\n",
            "/usr/local/lib/python3.6/dist-packages/sklearn/svm/base.py:196: FutureWarning: The default value of gamma will change from 'auto' to 'scale' in version 0.22 to account better for unscaled features. Set gamma explicitly to 'auto' or 'scale' to avoid this warning.\n",
            "  \"avoid this warning.\", FutureWarning)\n"
          ],
          "name": "stderr"
        },
        {
          "output_type": "stream",
          "text": [
            "LR: 0.7580363382250174, (0.04414375393983067)\n",
            "KNN: 0.733717679944095, (0.029903704676666528)\n",
            "NB: 0.7489517819706498, (0.05765098573969512)\n",
            "SVC: 0.750524109014675, (0.03683740351428678)\n",
            "LSVC: 0.7617400419287211, (0.053890924503493164)\n",
            "RFC: 0.7263801537386443, (0.04911695366652357)\n",
            "DTR: 0.6813417190775681, (0.05539644686943145)\n"
          ],
          "name": "stdout"
        },
        {
          "output_type": "stream",
          "text": [
            "/usr/local/lib/python3.6/dist-packages/sklearn/ensemble/forest.py:246: FutureWarning: The default value of n_estimators will change from 10 in version 0.20 to 100 in 0.22.\n",
            "  \"10 in version 0.20 to 100 in 0.22.\", FutureWarning)\n",
            "/usr/local/lib/python3.6/dist-packages/sklearn/ensemble/forest.py:246: FutureWarning: The default value of n_estimators will change from 10 in version 0.20 to 100 in 0.22.\n",
            "  \"10 in version 0.20 to 100 in 0.22.\", FutureWarning)\n",
            "/usr/local/lib/python3.6/dist-packages/sklearn/ensemble/forest.py:246: FutureWarning: The default value of n_estimators will change from 10 in version 0.20 to 100 in 0.22.\n",
            "  \"10 in version 0.20 to 100 in 0.22.\", FutureWarning)\n",
            "/usr/local/lib/python3.6/dist-packages/sklearn/ensemble/forest.py:246: FutureWarning: The default value of n_estimators will change from 10 in version 0.20 to 100 in 0.22.\n",
            "  \"10 in version 0.20 to 100 in 0.22.\", FutureWarning)\n",
            "/usr/local/lib/python3.6/dist-packages/sklearn/ensemble/forest.py:246: FutureWarning: The default value of n_estimators will change from 10 in version 0.20 to 100 in 0.22.\n",
            "  \"10 in version 0.20 to 100 in 0.22.\", FutureWarning)\n",
            "/usr/local/lib/python3.6/dist-packages/sklearn/ensemble/forest.py:246: FutureWarning: The default value of n_estimators will change from 10 in version 0.20 to 100 in 0.22.\n",
            "  \"10 in version 0.20 to 100 in 0.22.\", FutureWarning)\n",
            "/usr/local/lib/python3.6/dist-packages/sklearn/ensemble/forest.py:246: FutureWarning: The default value of n_estimators will change from 10 in version 0.20 to 100 in 0.22.\n",
            "  \"10 in version 0.20 to 100 in 0.22.\", FutureWarning)\n",
            "/usr/local/lib/python3.6/dist-packages/sklearn/ensemble/forest.py:246: FutureWarning: The default value of n_estimators will change from 10 in version 0.20 to 100 in 0.22.\n",
            "  \"10 in version 0.20 to 100 in 0.22.\", FutureWarning)\n",
            "/usr/local/lib/python3.6/dist-packages/sklearn/ensemble/forest.py:246: FutureWarning: The default value of n_estimators will change from 10 in version 0.20 to 100 in 0.22.\n",
            "  \"10 in version 0.20 to 100 in 0.22.\", FutureWarning)\n",
            "/usr/local/lib/python3.6/dist-packages/sklearn/ensemble/forest.py:246: FutureWarning: The default value of n_estimators will change from 10 in version 0.20 to 100 in 0.22.\n",
            "  \"10 in version 0.20 to 100 in 0.22.\", FutureWarning)\n"
          ],
          "name": "stderr"
        }
      ]
    },
    {
      "metadata": {
        "id": "bYe-cuPq5Pdz",
        "colab_type": "code",
        "outputId": "897cc955-1516-4079-d15b-a151c05a9e48",
        "colab": {
          "base_uri": "https://localhost:8080/",
          "height": 294
        }
      },
      "cell_type": "code",
      "source": [
        "fig = plt.figure()\n",
        "fig.suptitle(\"Comparison\")\n",
        "ax = fig.add_subplot(111)\n",
        "plt.boxplot(results)\n",
        "ax.set_xticklabels(names)\n",
        "plt.show()"
      ],
      "execution_count": 0,
      "outputs": [
        {
          "output_type": "display_data",
          "data": {
            "image/png": "[encoded data removed]",
            "text/plain": [
              "<Figure size 432x288 with 1 Axes>"
            ]
          },
          "metadata": {
            "tags": []
          }
        }
      ]
    },
    {
      "metadata": {
        "id": "8G1__Ag756Br",
        "colab_type": "text"
      },
      "cell_type": "markdown",
      "source": [
        "#Find best parameters for SVC"
      ]
    },
    {
      "metadata": {
        "id": "rjTrDAdR5s7v",
        "colab_type": "code",
        "outputId": "7e2bdb43-f7f8-48e4-b752-59cd46c8ffdf",
        "colab": {
          "base_uri": "https://localhost:8080/",
          "height": 222
        }
      },
      "cell_type": "code",
      "source": [
        "from sklearn.model_selection import GridSearchCV\n",
        "\n",
        "grid = {\n",
        "    \"C\": [1.0, 10.0, 50.0, 100.0],\n",
        "    \"kernel\": [\"linear\", \"rbf\", \"poly\", \"sigmoid\"],\n",
        "    \"shrinking\": [True, False],\n",
        "    \"gamma\": [\"auto\", 0.001, 0.01, 0.1, 1]\n",
        "}\n",
        "\n",
        "model_svc = SVC()\n",
        "grid_search = GridSearchCV(model_svc, grid, cv=10, scoring=\"accuracy\")\n",
        "grid_search.fit(train_set_scaled, train_set_labels)"
      ],
      "execution_count": 0,
      "outputs": [
        {
          "output_type": "stream",
          "text": [
            "/usr/local/lib/python3.6/dist-packages/sklearn/model_selection/_search.py:841: DeprecationWarning: The default of the `iid` parameter will change from True to False in version 0.22 and will be removed in 0.24. This will change numeric results when test-set sizes are unequal.\n",
            "  DeprecationWarning)\n"
          ],
          "name": "stderr"
        },
        {
          "output_type": "execute_result",
          "data": {
            "text/plain": [
              "GridSearchCV(cv=10, error_score='raise-deprecating',\n",
              "       estimator=SVC(C=1.0, cache_size=200, class_weight=None, coef0=0.0,\n",
              "  decision_function_shape='ovr', degree=3, gamma='auto_deprecated',\n",
              "  kernel='rbf', max_iter=-1, probability=False, random_state=None,\n",
              "  shrinking=True, tol=0.001, verbose=False),\n",
              "       fit_params=None, iid='warn', n_jobs=None,\n",
              "       param_grid={'C': [1.0, 10.0, 50.0, 100.0], 'kernel': ['linear', 'rbf', 'poly', 'sigmoid'], 'shrinking': [True, False], 'gamma': ['auto', 0.001, 0.01, 0.1, 1]},\n",
              "       pre_dispatch='2*n_jobs', refit=True, return_train_score='warn',\n",
              "       scoring='accuracy', verbose=0)"
            ]
          },
          "metadata": {
            "tags": []
          },
          "execution_count": 28
        }
      ]
    },
    {
      "metadata": {
        "id": "sVW1WIG06rbq",
        "colab_type": "code",
        "outputId": "b0c9eac2-88bf-4f91-a1bf-1ef37530f60d",
        "colab": {
          "base_uri": "https://localhost:8080/",
          "height": 34
        }
      },
      "cell_type": "code",
      "source": [
        "grid_search.best_score_"
      ],
      "execution_count": 0,
      "outputs": [
        {
          "output_type": "execute_result",
          "data": {
            "text/plain": [
              "0.7728119180633147"
            ]
          },
          "metadata": {
            "tags": []
          },
          "execution_count": 29
        }
      ]
    },
    {
      "metadata": {
        "id": "yF7_uF7J7Cqi",
        "colab_type": "text"
      },
      "cell_type": "markdown",
      "source": [
        "#Apply the params and train"
      ]
    },
    {
      "metadata": {
        "id": "zEcYzoR-60bm",
        "colab_type": "code",
        "outputId": "857633a7-407d-41fe-c42f-8e8899500632",
        "colab": {
          "base_uri": "https://localhost:8080/",
          "height": 84
        }
      },
      "cell_type": "code",
      "source": [
        "svc = grid_search.best_estimator_\n",
        "\n",
        "#X = np.append(train_set_scaled, test_set_scaled, axis=0)\n",
        "#Y = np.append(train_set_labels, test_set_labels, axis=0)\n",
        "\n",
        "svc.fit(train_set_scaled, train_set_labels)"
      ],
      "execution_count": 0,
      "outputs": [
        {
          "output_type": "execute_result",
          "data": {
            "text/plain": [
              "SVC(C=1.0, cache_size=200, class_weight=None, coef0=0.0,\n",
              "  decision_function_shape='ovr', degree=3, gamma=1, kernel='rbf',\n",
              "  max_iter=-1, probability=False, random_state=None, shrinking=True,\n",
              "  tol=0.001, verbose=False)"
            ]
          },
          "metadata": {
            "tags": []
          },
          "execution_count": 32
        }
      ]
    },
    {
      "metadata": {
        "id": "xA9Z1Xby7iVl",
        "colab_type": "text"
      },
      "cell_type": "markdown",
      "source": [
        "#Make a prediction"
      ]
    },
    {
      "metadata": {
        "id": "8QdngzWY7Yyz",
        "colab_type": "code",
        "outputId": "339e88a5-4e0a-4830-c681-a286da98ec30",
        "colab": {
          "base_uri": "https://localhost:8080/",
          "height": 67
        }
      },
      "cell_type": "code",
      "source": [
        "idx = 2\n",
        "prediction = svc.predict(test_set_scaled[[idx]])\n",
        "print(prediction)\n",
        "\n",
        "# Fake person having 3 most correlated values high and low\n",
        "new_df = pd.DataFrame([[6, 168, 75, 35, 0, 43.6, 0.627, 65], [3, 80, 72, 35, 0, 10, 0.627, 30]])\n",
        "new_df_scaled = scaler.transform(new_df)\n",
        "prediction_1 = svc.predict(new_df_scaled[[0]]) #should be 1\n",
        "prediction_2 = svc.predict(new_df_scaled[[1]]) #should be 0\n",
        "\n",
        "print(\"Should be 1\", prediction_1)\n",
        "print(\"Should be 0\", prediction_2)"
      ],
      "execution_count": 0,
      "outputs": [
        {
          "output_type": "stream",
          "text": [
            "[0]\n",
            "Should be 1 [1]\n",
            "Should be 0 [0]\n"
          ],
          "name": "stdout"
        }
      ]
    }
  ]
}